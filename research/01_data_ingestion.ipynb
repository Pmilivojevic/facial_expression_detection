{
 "cells": [
  {
   "cell_type": "code",
   "execution_count": 1,
   "metadata": {},
   "outputs": [
    {
     "data": {
      "text/plain": [
       "'/mnt/cb03386d-9344-47b1-82f9-868fbb64b4ae/python_projects/facial_expression_detection/research'"
      ]
     },
     "execution_count": 1,
     "metadata": {},
     "output_type": "execute_result"
    }
   ],
   "source": [
    "import os\n",
    "%pwd"
   ]
  },
  {
   "cell_type": "code",
   "execution_count": 2,
   "metadata": {},
   "outputs": [
    {
     "data": {
      "text/plain": [
       "'/mnt/cb03386d-9344-47b1-82f9-868fbb64b4ae/python_projects/facial_expression_detection'"
      ]
     },
     "execution_count": 2,
     "metadata": {},
     "output_type": "execute_result"
    }
   ],
   "source": [
    "os.chdir('../')\n",
    "%pwd"
   ]
  },
  {
   "cell_type": "code",
   "execution_count": 3,
   "metadata": {},
   "outputs": [],
   "source": [
    "from dataclasses import dataclass\n",
    "from pathlib import Path\n",
    "\n",
    "@dataclass(frozen=True)\n",
    "class DataIngestionConfig:\n",
    "    root_dir: Path\n",
    "    source_URL: str\n",
    "    local_data_file: Path"
   ]
  },
  {
   "cell_type": "code",
   "execution_count": 4,
   "metadata": {},
   "outputs": [],
   "source": [
    "from src.detmood.constant import *\n",
    "from src.detmood.utils.main_utils import create_directories, read_yaml\n",
    "\n",
    "class ConfigurationMananger:\n",
    "    def __init__(\n",
    "        self,\n",
    "        config_file_path = CONFIG_FILE_PATH,\n",
    "        params_file_path = PARAMS_FILE_PATH,\n",
    "        schema_file_path = SCHEMA_FILE_PATH\n",
    "    ):\n",
    "        self.config = read_yaml(config_file_path)\n",
    "        self.params = read_yaml(params_file_path)\n",
    "        self.schema = read_yaml(schema_file_path)\n",
    "        \n",
    "        create_directories([self.config.artifacts_root])\n",
    "        \n",
    "    def get_data_ingestion_config(self) -> DataIngestionConfig:\n",
    "        config = self.config.data_ingestion\n",
    "        \n",
    "        create_directories([config.root_dir])\n",
    "    \n",
    "        data_ingestion_config = DataIngestionConfig(\n",
    "            root_dir=config.root_dir,\n",
    "            source_URL=config.source_URL,\n",
    "            local_data_file=config.local_data_file\n",
    "        )\n",
    "        \n",
    "        return data_ingestion_config"
   ]
  },
  {
   "cell_type": "code",
   "execution_count": 7,
   "metadata": {},
   "outputs": [],
   "source": [
    "import os\n",
    "from src.detmood.utils.main_utils import get_size, create_directories\n",
    "from src.detmood import logger\n",
    "import zipfile\n",
    "import subprocess\n",
    "\n",
    "class DataIngestion:\n",
    "    def __init__(self, config: DataIngestionConfig):\n",
    "        self.config = config\n",
    "    \n",
    "    def download_dataset(self):\n",
    "        if not os.path.exists(self.config.local_data_file):\n",
    "            info = subprocess.run(\n",
    "                f\"wget '{self.config.source_URL}' -O {self.config.local_data_file}\",\n",
    "                shell=True\n",
    "            )\n",
    "            logger.info(f\"Dataset downloaded with folowing info: \\n{info}\")\n",
    "        else:\n",
    "            logger.info(f\"File already exists of size: {get_size(Path(self.config.local_data_file))}\")\n",
    "    \n",
    "    def download_kaggle_dataset(self):\n",
    "        if not os.path.exists(self.config.local_data_file):\n",
    "            info = subprocess.run(\n",
    "                f\"kaggle datasets download -d {self.config.source_URL} -p {self.config.root_dir}\",\n",
    "                shell=True\n",
    "            )\n",
    "            logger.info(f\"Zip file of dataset downloaded with folowing info: \\n{info}\")\n",
    "        else:\n",
    "            logger.info(f\"File already exists of size: {get_size(Path(self.config.local_data_file))}\")\n",
    "    \n",
    "    def extract_zip_file(self):\n",
    "        with zipfile.ZipFile(self.config.local_data_file, 'r') as zip_ref:\n",
    "            zip_ref.extractall(self.config.root_dir)\n",
    "        logger.info(\"Zip file extacted!\")\n",
    "        \n",
    "        os.remove(self.config.local_data_file)\n",
    "        logger.info(\"Zip file removed!\")\n",
    "    \n",
    "    def ingestion_compose(self):\n",
    "        # if not os.listdir(self.config.root_dir):\n",
    "        if not os.path.exists(self.config.local_data_file):\n",
    "            # self.download_dataset()\n",
    "            self.download_kaggle_dataset()\n",
    "            self.extract_zip_file()\n",
    "        else:\n",
    "            print(\"Data ingestion allready performed!\")"
   ]
  },
  {
   "cell_type": "code",
   "execution_count": 8,
   "metadata": {},
   "outputs": [
    {
     "name": "stdout",
     "output_type": "stream",
     "text": [
      "[2024-11-27 17:16:04,120: INFO: main_utils: created directory at: artifacts]\n",
      "[2024-11-27 17:16:04,122: INFO: main_utils: created directory at: artifacts/data_ingestion]\n"
     ]
    },
    {
     "name": "stdout",
     "output_type": "stream",
     "text": [
      "Dataset URL: https://www.kaggle.com/datasets/shuvoalok/raf-db-dataset\n",
      "License(s): other\n",
      "Downloading raf-db-dataset.zip to artifacts/data_ingestion\n"
     ]
    },
    {
     "name": "stderr",
     "output_type": "stream",
     "text": [
      " 90%|█████████ | 34.0M/37.7M [00:01<00:00, 26.3MB/s]"
     ]
    },
    {
     "name": "stdout",
     "output_type": "stream",
     "text": [
      "\n",
      "[2024-11-27 17:16:07,635: INFO: 1841096850: Zip file of dataset downloaded with folowing info: \n",
      "CompletedProcess(args='kaggle datasets download -d shuvoalok/raf-db-dataset -p artifacts/data_ingestion', returncode=0)]\n"
     ]
    },
    {
     "name": "stderr",
     "output_type": "stream",
     "text": [
      "100%|██████████| 37.7M/37.7M [00:02<00:00, 19.2MB/s]\n"
     ]
    },
    {
     "name": "stdout",
     "output_type": "stream",
     "text": [
      "[2024-11-27 17:16:09,685: INFO: 1841096850: Zip file extacted!]\n",
      "[2024-11-27 17:16:09,692: INFO: 1841096850: Zip file removed!]\n"
     ]
    }
   ],
   "source": [
    "try:\n",
    "    config = ConfigurationMananger()\n",
    "    data_ingestion_config = config.get_data_ingestion_config()\n",
    "    data_ingestion = DataIngestion(config=data_ingestion_config)\n",
    "    data_ingestion.ingestion_compose()\n",
    "\n",
    "except Exception as e:\n",
    "    raise e"
   ]
  },
  {
   "cell_type": "code",
   "execution_count": null,
   "metadata": {},
   "outputs": [],
   "source": []
  }
 ],
 "metadata": {
  "kernelspec": {
   "display_name": "venv",
   "language": "python",
   "name": "python3"
  },
  "language_info": {
   "codemirror_mode": {
    "name": "ipython",
    "version": 3
   },
   "file_extension": ".py",
   "mimetype": "text/x-python",
   "name": "python",
   "nbconvert_exporter": "python",
   "pygments_lexer": "ipython3",
   "version": "3.10.12"
  }
 },
 "nbformat": 4,
 "nbformat_minor": 2
}
