{
 "cells": [
  {
   "cell_type": "code",
   "execution_count": 1,
   "metadata": {},
   "outputs": [
    {
     "data": {
      "text/plain": [
       "'/mnt/cb03386d-9344-47b1-82f9-868fbb64b4ae/python_projects/facial_expression_detection/research'"
      ]
     },
     "execution_count": 1,
     "metadata": {},
     "output_type": "execute_result"
    }
   ],
   "source": [
    "import os\n",
    "%pwd"
   ]
  },
  {
   "cell_type": "code",
   "execution_count": 2,
   "metadata": {},
   "outputs": [
    {
     "data": {
      "text/plain": [
       "'/mnt/cb03386d-9344-47b1-82f9-868fbb64b4ae/python_projects/facial_expression_detection'"
      ]
     },
     "execution_count": 2,
     "metadata": {},
     "output_type": "execute_result"
    }
   ],
   "source": [
    "os.chdir('../')\n",
    "%pwd"
   ]
  },
  {
   "cell_type": "code",
   "execution_count": 1,
   "metadata": {},
   "outputs": [
    {
     "name": "stdout",
     "output_type": "stream",
     "text": [
      "--2024-10-26 00:17:16--  https://drive.usercontent.google.com/download?id=184K8sLVcL_fq76pA2o8Bg4BthNLcwUel&export=download&authuser=0&confirm=t\n",
      "Resolving drive.usercontent.google.com (drive.usercontent.google.com)... 142.251.208.129, 2a00:1450:400d:805::2001\n",
      "Connecting to drive.usercontent.google.com (drive.usercontent.google.com)|142.251.208.129|:443... connected.\n",
      "HTTP request sent, awaiting response... 200 OK\n",
      "Length: 27388816 (26M) [application/octet-stream]\n",
      "Saving to: ‘labels_and_dataset.zip’\n",
      "\n",
      "labels_and_dataset. 100%[===================>]  26,12M  27,5MB/s    in 1,0s    \n",
      "\n",
      "2024-10-26 00:17:19 (27,5 MB/s) - ‘labels_and_dataset.zip’ saved [27388816/27388816]\n",
      "\n"
     ]
    }
   ],
   "source": [
    "!wget 'https://drive.usercontent.google.com/download?id=184K8sLVcL_fq76pA2o8Bg4BthNLcwUel&export=download&authuser=0&confirm=t' -O labels_and_dataset.zip"
   ]
  },
  {
   "cell_type": "code",
   "execution_count": null,
   "metadata": {},
   "outputs": [],
   "source": []
  }
 ],
 "metadata": {
  "kernelspec": {
   "display_name": "venv",
   "language": "python",
   "name": "python3"
  },
  "language_info": {
   "codemirror_mode": {
    "name": "ipython",
    "version": 3
   },
   "file_extension": ".py",
   "mimetype": "text/x-python",
   "name": "python",
   "nbconvert_exporter": "python",
   "pygments_lexer": "ipython3",
   "version": "3.10.12"
  }
 },
 "nbformat": 4,
 "nbformat_minor": 2
}
