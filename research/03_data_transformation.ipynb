{
 "cells": [
  {
   "cell_type": "code",
   "execution_count": 2,
   "metadata": {},
   "outputs": [
    {
     "data": {
      "text/plain": [
       "'/mnt/cb03386d-9344-47b1-82f9-868fbb64b4ae/python_projects/facial_expression_detection/research'"
      ]
     },
     "execution_count": 2,
     "metadata": {},
     "output_type": "execute_result"
    }
   ],
   "source": [
    "import os\n",
    "%pwd"
   ]
  },
  {
   "cell_type": "code",
   "execution_count": 3,
   "metadata": {},
   "outputs": [
    {
     "data": {
      "text/plain": [
       "'/mnt/cb03386d-9344-47b1-82f9-868fbb64b4ae/python_projects/facial_expression_detection'"
      ]
     },
     "execution_count": 3,
     "metadata": {},
     "output_type": "execute_result"
    }
   ],
   "source": [
    "os.chdir('../')\n",
    "%pwd"
   ]
  },
  {
   "cell_type": "code",
   "execution_count": 4,
   "metadata": {},
   "outputs": [],
   "source": [
    "from dataclasses import dataclass\n",
    "from pathlib import Path\n",
    "\n",
    "@dataclass(frozen=True)\n",
    "class DataTransformationConfig:\n",
    "    root_dir: Path\n",
    "    dataset_folder: Path\n",
    "    transformed_dataset: Path\n",
    "    dataset_labels_src: Path\n",
    "    dataset_labels: Path\n",
    "    median_filter_size: int"
   ]
  },
  {
   "cell_type": "code",
   "execution_count": 5,
   "metadata": {},
   "outputs": [],
   "source": [
    "from src.detmood.constant import *\n",
    "from src.detmood.utils.main_utils import create_directories, read_yaml\n",
    "\n",
    "class ConfigurationManager:\n",
    "    def __init__(\n",
    "        self,\n",
    "        config_file_path = CONFIG_FILE_PATH,\n",
    "        params_file_path = PARAMS_FILE_PATH,\n",
    "        schema_file_path = SCHEMA_FILE_PATH\n",
    "    ):\n",
    "        self.config = read_yaml(config_file_path)\n",
    "        self.params = read_yaml(params_file_path)\n",
    "        self.schema = read_yaml(schema_file_path)\n",
    "        \n",
    "        create_directories([self.config.artifacts_root])\n",
    "    \n",
    "    def get_data_transformation_config(self) -> DataTransformationConfig:\n",
    "        config = self.config.data_transformation\n",
    "        params = self.params.transform.noise_reduction\n",
    "        \n",
    "        create_directories([config.transformed_dataset])\n",
    "        \n",
    "        data_transformation_config = DataTransformationConfig(\n",
    "            root_dir=config.root_dir,\n",
    "            dataset_folder=config.dataset_folder,\n",
    "            transformed_dataset=config.transformed_dataset,\n",
    "            dataset_labels_src=config.dataset_labels_src,\n",
    "            dataset_labels=config.dataset_labels,\n",
    "            median_filter_size=params.median_filter_size\n",
    "        )\n",
    "        \n",
    "        return data_transformation_config"
   ]
  },
  {
   "cell_type": "code",
   "execution_count": 8,
   "metadata": {},
   "outputs": [],
   "source": [
    "import cv2\n",
    "from tqdm import tqdm\n",
    "import pandas as pd\n",
    "\n",
    "class DataTransformation:\n",
    "    def __init__(self, config: DataTransformationConfig):\n",
    "        self.config = config\n",
    "    \n",
    "    def equalize_histogram(self, img):\n",
    "        img_hsv = cv2.cvtColor(img, cv2.COLOR_BGR2HSV)\n",
    "        img_hsv[:,:,2] = cv2.equalizeHist(img_hsv[:,:,2])\n",
    "        img_eq = cv2.cvtColor(img_hsv, cv2.COLOR_HSV2BGR)\n",
    "        \n",
    "        return img_eq\n",
    "    \n",
    "    def noise_reduction(self, img):\n",
    "        img_filt = cv2.medianBlur(img, self.config.median_filter_size)\n",
    "        \n",
    "        return img_filt\n",
    "    \n",
    "    def labels_csv_transform(self):\n",
    "        labels_df = pd.read_csv(self.config.dataset_labels_src)\n",
    "        \n",
    "        for ind in labels_df.index:\n",
    "            labels_df.loc[ind, 'label'] = MOOD_DICT[labels_df.loc[ind, 'label']]\n",
    "        \n",
    "        labels_df.to_csv(self.config.dataset_labels, index=False)\n",
    "    \n",
    "    def transformation_compose(self):\n",
    "        for img_name in tqdm(os.listdir(self.config.dataset_folder)):\n",
    "            img = cv2.imread(os.path.join(self.config.dataset_folder, img_name))\n",
    "            img_eq = self.equalize_histogram(img)\n",
    "            img_filt = self.noise_reduction(img_eq)\n",
    "            \n",
    "            cv2.imwrite(os.path.join(self.config.transformed_dataset, img_name), img_filt)\n",
    "        \n",
    "        self.labels_csv_transform()"
   ]
  },
  {
   "cell_type": "code",
   "execution_count": 9,
   "metadata": {},
   "outputs": [
    {
     "name": "stdout",
     "output_type": "stream",
     "text": [
      "[2024-10-27 10:27:39,328: INFO: main_utils: created directory at: artifacts]\n",
      "[2024-10-27 10:27:39,329: INFO: main_utils: created directory at: artifacts/data_transformation/dataset]\n"
     ]
    },
    {
     "name": "stderr",
     "output_type": "stream",
     "text": [
      "100%|██████████| 10759/10759 [00:04<00:00, 2344.10it/s]\n"
     ]
    }
   ],
   "source": [
    "try:\n",
    "    config = ConfigurationManager()\n",
    "    data_transformation_config = config.get_data_transformation_config()\n",
    "    data_transformation = DataTransformation(config=data_transformation_config)\n",
    "    data_transformation.transformation_compose()\n",
    "\n",
    "except Exception as e:\n",
    "    raise e"
   ]
  },
  {
   "cell_type": "code",
   "execution_count": null,
   "metadata": {},
   "outputs": [],
   "source": []
  }
 ],
 "metadata": {
  "kernelspec": {
   "display_name": ".venv",
   "language": "python",
   "name": "python3"
  },
  "language_info": {
   "codemirror_mode": {
    "name": "ipython",
    "version": 3
   },
   "file_extension": ".py",
   "mimetype": "text/x-python",
   "name": "python",
   "nbconvert_exporter": "python",
   "pygments_lexer": "ipython3",
   "version": "3.10.12"
  }
 },
 "nbformat": 4,
 "nbformat_minor": 2
}
